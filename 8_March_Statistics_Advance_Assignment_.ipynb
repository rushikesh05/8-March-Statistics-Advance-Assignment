{
  "nbformat": 4,
  "nbformat_minor": 0,
  "metadata": {
    "colab": {
      "provenance": []
    },
    "kernelspec": {
      "name": "python3",
      "display_name": "Python 3"
    },
    "language_info": {
      "name": "python"
    }
  },
  "cells": [
    {
      "cell_type": "markdown",
      "source": [
        "##Q1. What is the Probability density function?\n",
        "\n",
        "* The probability density function (PDF) is a mathematical function that describes the relative likelihood of a continuous random variable taking on a certain value or range of values. In other words, the PDF provides the probability of a random variable falling within a certain range of values.\n",
        "\n",
        "* Unlike discrete random variables, which have a probability mass function (PMF) that assigns probabilities to specific values, continuous random variables can take on an infinite number of values within a range, so the PDF provides a way to describe the probability distribution of these variables.\n",
        "\n",
        "* The PDF is defined such that the area under the curve between two points on the x-axis represents the probability that the random variable falls within that range. The integral of the PDF over the entire range of the variable must be equal to 1, since the total probability of all possible outcomes must be 1.\n"
      ],
      "metadata": {
        "id": "FXXhIMhgmkBC"
      }
    },
    {
      "cell_type": "markdown",
      "source": [
        "##Q2. What are the types of Probability distribution?\n",
        "###There are several types of probability distributions, each of which has its own set of characteristics and applications in probability theory and statistics. Here are some of the most commonly used probability distributions:\n",
        "\n",
        "* Normal distribution: The normal distribution, also known as the Gaussian distribution, is a continuous probability distribution that is symmetric and bell-shaped. It is often used to model natural phenomena such as measurements of height, weight, or IQ, as well as errors in measurement.\n",
        "\n",
        "* Binomial distribution: The binomial distribution is a discrete probability distribution that describes the number of successes in a fixed number of independent trials, where each trial has only two possible outcomes, such as success or failure.\n",
        "\n",
        "* Poisson distribution: The Poisson distribution is a discrete probability distribution that describes the number of events occurring in a fixed interval of time or space, where the events occur randomly and independently of each other.\n",
        "\n",
        "* Bernoulli distribution: The Bernoulli distribution is a discrete probability distribution that describes a single trial with only two possible outcomes, such as success or failure. It is named after Swiss mathematician Jacob Bernoulli, who used it to study the probability of coin tosses. The distribution is characterized by a single parameter, p, which represents the probability of success. The probability mass function of the Bernoulli distribution is given by:\n",
        "```\n",
        "P(X = 1) = p\n",
        "P(X = 0) = 1 - p\n",
        "```\n",
        "\n",
        "* Uniform distribution: The uniform distribution is a continuous probability distribution that describes a random variable that has an equal chance of being anywhere within a specified range. This means that the probability density function of the uniform distribution is constant within the range of the variable and zero outside that range. The distribution is characterized by two parameters, a and b, which represent the minimum and maximum values of the range, respectively. "
      ],
      "metadata": {
        "id": "A-DsU-ewnD0X"
      }
    },
    {
      "cell_type": "markdown",
      "source": [
        "##Q3. Write a Python function to calculate the probability density function of a normal distribution with given mean and standard deviation at a given point."
      ],
      "metadata": {
        "id": "Pwughpusn22J"
      }
    },
    {
      "cell_type": "code",
      "execution_count": 4,
      "metadata": {
        "id": "j9pHeOMumh9d"
      },
      "outputs": [],
      "source": [
        "import math\n",
        "\n",
        "def normal_pdf(x, mean, std_dev):\n",
        "    '''Args:\n",
        "        x (float): the value at which to evaluate the PDF\n",
        "        mean (float): the mean of the normal distribution\n",
        "        std_dev (float): the standard deviation of the normal distribution'''\n",
        "    exponent = -((x - mean)**2) / (2 * std_dev**2)\n",
        "    coefficient = 1 / (std_dev * math.sqrt(2 * math.pi))\n",
        "    pdf = coefficient * math.exp(exponent)\n",
        "    return pdf\n"
      ]
    },
    {
      "cell_type": "markdown",
      "source": [
        "####For example, to calculate the PDF value at x=1 for a normal distribution with mean=0 and standard deviation=1, you could call the function like this:"
      ],
      "metadata": {
        "id": "60SR8k2BoaVp"
      }
    },
    {
      "cell_type": "code",
      "source": [
        "pdf_value = normal_pdf(1, 0, 1)\n",
        "print(pdf_value)\n"
      ],
      "metadata": {
        "colab": {
          "base_uri": "https://localhost:8080/"
        },
        "id": "HyFKtYKpoItY",
        "outputId": "c4933c80-0ead-4705-c4ea-01ab1f27df11"
      },
      "execution_count": 6,
      "outputs": [
        {
          "output_type": "stream",
          "name": "stdout",
          "text": [
            "0.24197072451914337\n"
          ]
        }
      ]
    },
    {
      "cell_type": "markdown",
      "source": [
        "##Q4. What are the properties of Binomial distribution? Give two examples of events where binomial distribution can be applied.\n",
        "\n",
        "#Properties of the Binomial distribution:\n",
        "\n",
        "* The binomial distribution is a discrete probability distribution that describes the number of successes in a fixed number of independent trials, where each trial has only two possible outcomes, such as success or failure.\n",
        "\n",
        "* The distribution is characterized by two parameters: n, the number of trials, and p, the probability of success in each trial.\n",
        "\n",
        "* The probability mass function of the binomial distribution is given by: P(X = k) = (n choose k) * p^k * (1-p)^(n-k), where X is the random variable representing the number of successes, k is the number of successes, (n choose k) is the binomial coefficient, and p and (1-p) are the probabilities of success and failure, respectively.\n",
        "\n",
        "* The mean of the binomial distribution is given by np, and the variance is np(1-p).\n",
        "\n",
        "* The binomial distribution is often used to model real-world phenomena where there are only two possible outcomes in each trial, such as flipping a coin, rolling a die, or testing the effectiveness of a drug.\n",
        "\n",
        "###Examples of events where the Binomial distribution can be applied:\n",
        "\n",
        "* 1. Coin tosses: A coin toss is a classic example of a binary outcome. When we flip a coin, we can either get heads or tails. If we flip a coin n times and we want to know the probability of getting k heads, we can model this situation using a binomial distribution with parameters n and 0.5 (assuming a fair coin).\n",
        "\n",
        "* 2. Elections: Elections are often modeled using a binomial distribution, where each voter has a probability of voting for a particular candidate. The number of votes for the candidate can be modeled as a binomial random variable with parameters n (the number of voters) and p (the probability of a voter voting for the candidate). This can help us calculate the probability of the candidate winning the election, given the number of voters and the probability of each voter supporting the candidate."
      ],
      "metadata": {
        "id": "GBReBsg7okS7"
      }
    },
    {
      "cell_type": "markdown",
      "source": [
        "##Q5. Generate a random sample of size 1000 from a binomial distribution with probability of success 0.4 and plot a histogram of the results using matplotlib."
      ],
      "metadata": {
        "id": "D14400v_pM8p"
      }
    },
    {
      "cell_type": "code",
      "source": [
        "import numpy as np\n",
        "import matplotlib.pyplot as plt\n",
        "\n",
        "# Set the parameters of the binomial distribution\n",
        "n = 10\n",
        "p = 0.4\n",
        "\n",
        "# Generate a random sample of size 1000 from the binomial distribution\n",
        "sample = np.random.binomial(n, p, size=1000)\n",
        "\n",
        "# Plot a histogram of the sample\n",
        "plt.hist(sample, bins=range(n+2), align='left', rwidth=0.8, alpha=0.5)\n",
        "plt.xticks(range(n+1))\n",
        "plt.xlabel('Number of successes')\n",
        "plt.ylabel('Frequency')\n",
        "plt.title('Histogram of Binomial Distribution with n=10, p=0.4')\n",
        "plt.show()\n"
      ],
      "metadata": {
        "colab": {
          "base_uri": "https://localhost:8080/",
          "height": 295
        },
        "id": "bGjO2NIJoOpp",
        "outputId": "b9f7ce09-b4ea-4fea-97fd-7ab4c0a9c0fe"
      },
      "execution_count": 7,
      "outputs": [
        {
          "output_type": "display_data",
          "data": {
            "text/plain": [
              "<Figure size 432x288 with 1 Axes>"
            ],
            "image/png": "[encoded data removed]"
          },
          "metadata": {
            "needs_background": "light"
          }
        }
      ]
    },
    {
      "cell_type": "markdown",
      "source": [
        "##Q6. Write a Python function to calculate the cumulative distribution function of a Poisson distribution with given mean at a given point.\n"
      ],
      "metadata": {
        "id": "VhJTQtRHqFqN"
      }
    },
    {
      "cell_type": "code",
      "source": [
        "import math\n",
        "\n",
        "def poisson_cdf(k, mean):\n",
        "    \"\"\"\n",
        "    Args:\n",
        "        k (int): the value at which to evaluate the CDF\n",
        "        mean (float): the mean of the Poisson distribution\n",
        "    \"\"\"\n",
        "    cdf = 0\n",
        "    for i in range(k+1):\n",
        "        cdf += math.exp(-mean) * (mean**i) / math.factorial(i)\n",
        "    return cdf\n"
      ],
      "metadata": {
        "id": "SQZnYU30paeC"
      },
      "execution_count": 8,
      "outputs": []
    },
    {
      "cell_type": "markdown",
      "source": [
        "##For example, to calculate the CDF value at k=2  for a Poisson distribution with mean=2.5, you could call the function like this:"
      ],
      "metadata": {
        "id": "CqyQsfWlqaS4"
      }
    },
    {
      "cell_type": "code",
      "source": [
        "cdf_value = poisson_cdf(2, 2.5)\n",
        "print(cdf_value)\n"
      ],
      "metadata": {
        "colab": {
          "base_uri": "https://localhost:8080/"
        },
        "id": "QIDrLwp3qVpj",
        "outputId": "d5b474c7-5bb3-4ac3-d4ce-86d0a8101e57"
      },
      "execution_count": 10,
      "outputs": [
        {
          "output_type": "stream",
          "name": "stdout",
          "text": [
            "0.5438131158833295\n"
          ]
        }
      ]
    },
    {
      "cell_type": "markdown",
      "source": [
        "##Q7. How Binomial distribution different from Poisson distribution?\n",
        "###Binomial distribution and Poisson distribution are both discrete probability distributions that model the number of occurrences of an event. However, they have some key differences:\n",
        "\n",
        "* Number of trials: In a binomial distribution, the number of trials is fixed and known in advance. In a Poisson distribution, there is no fixed number of trials; rather, the distribution models the number of events that occur in a fixed interval of time or space.\n",
        "\n",
        "* Probability of success: In a binomial distribution, the probability of success is constant and the same for each trial. In a Poisson distribution, the probability of success may vary depending on the time or space interval being considered, but it is assumed to be small and constant within the interval.\n",
        "\n",
        "* Mean and variance: The mean and variance of a binomial distribution are both calculated as n*p, where n is the number of trials and p is the probability of success. In a Poisson distribution, both the mean and variance are equal to λ, where λ is the average number of events per interval.\n",
        "\n",
        "* Limitations: A binomial distribution is appropriate when there are a fixed number of trials, each with a binary outcome, and the probability of success is constant for each trial. A Poisson distribution is appropriate when the number of events in a fixed interval follows a rare event pattern (i.e., the probability of an event occurring is low, but the number of opportunities for it to occur is high), and the events are independent of each other."
      ],
      "metadata": {
        "id": "xMWWBKOGqyjY"
      }
    },
    {
      "cell_type": "markdown",
      "source": [
        "##Q8. Generate a random sample of size 1000 from a Poisson distribution with mean 5 and calculate the sample mean and variance."
      ],
      "metadata": {
        "id": "BT3ne92DrS-9"
      }
    },
    {
      "cell_type": "code",
      "source": [
        "import numpy as np\n",
        "\n",
        "# Set the mean of the Poisson distribution\n",
        "mean = 5\n",
        "\n",
        "# Generate a random sample of size 1000 from the Poisson distribution\n",
        "sample = np.random.poisson(mean, size=1000)\n",
        "\n",
        "# Calculate the sample mean and variance\n",
        "sample_mean = np.mean(sample)\n",
        "sample_var = np.var(sample, ddof=1)\n",
        "\n",
        "print(f\"Sample mean: {sample_mean:.3f}\")\n",
        "print(f\"Sample variance: {sample_var:.3f}\")\n"
      ],
      "metadata": {
        "colab": {
          "base_uri": "https://localhost:8080/"
        },
        "id": "wRQ8PxFoqeiQ",
        "outputId": "958f5305-5f0e-4498-de3c-bdde789ba137"
      },
      "execution_count": 15,
      "outputs": [
        {
          "output_type": "stream",
          "name": "stdout",
          "text": [
            "Sample mean: 5.112\n",
            "Sample variance: 5.369\n"
          ]
        }
      ]
    },
    {
      "cell_type": "markdown",
      "source": [
        "##Q9. How mean and variance are related in Binomial distribution and Poisson distribution?\n",
        "\n",
        "###In a binomial distribution, the mean and variance are both calculated as n*p, where n is the number of trials and p is the probability of success. Specifically, the mean of a binomial distribution is given by:\n",
        "\n",
        "     mean = n * p\n",
        "\n",
        "###and the variance is given by:\n",
        "    variance = n * p * (1 - p)\n",
        "\n",
        "###In a Poisson distribution, both the mean and variance are equal to λ, where λ is the average number of events per interval. Specifically, the mean and variance of a Poisson distribution are given by:\n",
        "\n",
        "      mean = variance = λ\n",
        "\n",
        "* So in both cases, the mean and variance are directly proportional to each other. This means that if the mean of a binomial or Poisson distribution increases, the variance will also increase proportionally. Conversely, if the mean decreases, the variance will decrease proportionally as well.\n",
        "\n",
        "###This relationship between mean and variance can be useful for understanding the shape and spread of the distribution, as well as for making predictions about the likelihood of observing certain values within the distribution.\n",
        "\n",
        "\n"
      ],
      "metadata": {
        "id": "FvRcvBW9rqcA"
      }
    },
    {
      "cell_type": "markdown",
      "source": [
        "##Q10. In normal distribution with respect to mean position, where does the least frequent data appear?\n",
        "\n",
        "* In a normal distribution, the least frequent data appear at the tails of the distribution, furthest away from the mean. Specifically, data that falls more than 2 or 3 standard deviations away from the mean are considered outliers or extreme values, and are relatively rare in a normal distribution.\n",
        "\n",
        "* The normal distribution is symmetric around its mean, so the least frequent data will appear at both ends of the distribution, with the same probability of occurrence on either side. This is because the probability density function of the normal distribution approaches zero as the distance from the mean increases, indicating that data that is far from the mean is increasingly unlikely to occur."
      ],
      "metadata": {
        "id": "Uk6lAAeTsMF1"
      }
    },
    {
      "cell_type": "code",
      "source": [],
      "metadata": {
        "id": "GY5rsacTrdIx"
      },
      "execution_count": null,
      "outputs": []
    }
  ]
}